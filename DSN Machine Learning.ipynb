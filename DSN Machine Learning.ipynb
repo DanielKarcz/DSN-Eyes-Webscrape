{
 "cells": [
  {
   "cell_type": "code",
   "execution_count": 1,
   "metadata": {},
   "outputs": [],
   "source": [
    "#ML Article used as ML reference\n",
    "#https://towardsdatascience.com/preprocessing-with-sklearn-a-complete-and-comprehensive-guide-670cb98fcfb9"
   ]
  },
  {
   "cell_type": "code",
   "execution_count": 2,
   "metadata": {},
   "outputs": [],
   "source": [
    "import numpy as np\n",
    "import scipy as sp\n",
    "import pandas as pd"
   ]
  },
  {
   "cell_type": "code",
   "execution_count": 3,
   "metadata": {},
   "outputs": [],
   "source": [
    "raw_data = pd.read_csv('sample2.csv')"
   ]
  },
  {
   "cell_type": "code",
   "execution_count": 4,
   "metadata": {},
   "outputs": [
    {
     "data": {
      "text/plain": [
       "(249959, 36)"
      ]
     },
     "execution_count": 4,
     "metadata": {},
     "output_type": "execute_result"
    }
   ],
   "source": [
    "raw_data.shape"
   ]
  },
  {
   "cell_type": "code",
   "execution_count": 5,
   "metadata": {},
   "outputs": [
    {
     "data": {
      "text/html": [
       "<div>\n",
       "<style scoped>\n",
       "    .dataframe tbody tr th:only-of-type {\n",
       "        vertical-align: middle;\n",
       "    }\n",
       "\n",
       "    .dataframe tbody tr th {\n",
       "        vertical-align: top;\n",
       "    }\n",
       "\n",
       "    .dataframe thead th {\n",
       "        text-align: right;\n",
       "    }\n",
       "</style>\n",
       "<table border=\"1\" class=\"dataframe\">\n",
       "  <thead>\n",
       "    <tr style=\"text-align: right;\">\n",
       "      <th></th>\n",
       "      <th>_text</th>\n",
       "      <th>azimuthAngle</th>\n",
       "      <th>created</th>\n",
       "      <th>downSignal</th>\n",
       "      <th>elevationAngle</th>\n",
       "      <th>friendlyName</th>\n",
       "      <th>isArray</th>\n",
       "      <th>isDDOR</th>\n",
       "      <th>isMSPA</th>\n",
       "      <th>name_x</th>\n",
       "      <th>...</th>\n",
       "      <th>power_y</th>\n",
       "      <th>signalType_y</th>\n",
       "      <th>signalTypeDebug_y</th>\n",
       "      <th>spacecraft_y</th>\n",
       "      <th>spacecraftId_y</th>\n",
       "      <th>downlegRange</th>\n",
       "      <th>id</th>\n",
       "      <th>name_y</th>\n",
       "      <th>rtlt</th>\n",
       "      <th>uplegRange</th>\n",
       "    </tr>\n",
       "  </thead>\n",
       "  <tbody>\n",
       "    <tr>\n",
       "      <th>0</th>\n",
       "      <td>STA</td>\n",
       "      <td>180.0</td>\n",
       "      <td>2019-01-13T23:40:09.011Z</td>\n",
       "      <td>[{'signalType': 'none', 'signalTypeDebug': 'ID...</td>\n",
       "      <td>88.5</td>\n",
       "      <td>Goldstone</td>\n",
       "      <td>False</td>\n",
       "      <td>False</td>\n",
       "      <td>False</td>\n",
       "      <td>DSS14</td>\n",
       "      <td>...</td>\n",
       "      <td>0.000013</td>\n",
       "      <td>none</td>\n",
       "      <td>OFF 0</td>\n",
       "      <td>STA</td>\n",
       "      <td>234.0</td>\n",
       "      <td>2.225289e+08</td>\n",
       "      <td>234.0</td>\n",
       "      <td>STA</td>\n",
       "      <td>1484.459294</td>\n",
       "      <td>2.224996e+08</td>\n",
       "    </tr>\n",
       "  </tbody>\n",
       "</table>\n",
       "<p>1 rows × 36 columns</p>\n",
       "</div>"
      ],
      "text/plain": [
       "  _text  azimuthAngle                   created  \\\n",
       "0   STA         180.0  2019-01-13T23:40:09.011Z   \n",
       "\n",
       "                                          downSignal  elevationAngle  \\\n",
       "0  [{'signalType': 'none', 'signalTypeDebug': 'ID...            88.5   \n",
       "\n",
       "  friendlyName  isArray  isDDOR  isMSPA name_x  ...   power_y signalType_y  \\\n",
       "0    Goldstone    False   False   False  DSS14  ...  0.000013         none   \n",
       "\n",
       "   signalTypeDebug_y  spacecraft_y spacecraftId_y  downlegRange     id  \\\n",
       "0             OFF 0            STA          234.0  2.225289e+08  234.0   \n",
       "\n",
       "   name_y         rtlt    uplegRange  \n",
       "0     STA  1484.459294  2.224996e+08  \n",
       "\n",
       "[1 rows x 36 columns]"
      ]
     },
     "execution_count": 5,
     "metadata": {},
     "output_type": "execute_result"
    }
   ],
   "source": [
    "raw_data.head(1)"
   ]
  },
  {
   "cell_type": "code",
   "execution_count": 6,
   "metadata": {},
   "outputs": [
    {
     "data": {
      "text/plain": [
       "Index(['_text', 'azimuthAngle', 'created', 'downSignal', 'elevationAngle',\n",
       "       'friendlyName', 'isArray', 'isDDOR', 'isMSPA', 'name_x', 'station',\n",
       "       'target', 'timeUTC', 'timeZoneOffset', 'upSignal', 'updated',\n",
       "       'windSpeed', 'dataRate_x', 'frequency_x', 'power_x', 'signalType_x',\n",
       "       'signalTypeDebug_x', 'spacecraft_x', 'spacecraftId_x', 'dataRate_y',\n",
       "       'frequency_y', 'power_y', 'signalType_y', 'signalTypeDebug_y',\n",
       "       'spacecraft_y', 'spacecraftId_y', 'downlegRange', 'id', 'name_y',\n",
       "       'rtlt', 'uplegRange'],\n",
       "      dtype='object')"
      ]
     },
     "execution_count": 6,
     "metadata": {},
     "output_type": "execute_result"
    }
   ],
   "source": [
    "raw_data.columns"
   ]
  },
  {
   "cell_type": "code",
   "execution_count": 7,
   "metadata": {},
   "outputs": [],
   "source": [
    "# Renaming column extensions (from webscrape) that have \"_x\" to \"downsignal\", and \"_y\" to \"upsignal\".\n",
    "\n",
    "data_new_names = raw_data.rename(columns={\"name_x\":\"DSS\",\"friendlyName\":\"location\",\"dataRate_x\": \"dataRate_downsignal\", \n",
    "    \"frequency_x\": \"frequency_downsignal\", \"power_x\":\"power_downsignal\",\"signalType_x\":\"signalType_downsignal\",\n",
    "    \"signalTypeDebug_x\":\"signalTypeDebug_downsignal\", \"spacecraft_x\":\"spacecraft_downsignal\",\n",
    "    \"spacecraftId_x\":\"spacecraftId_downsignal\", \"dataRate_y\":\"dataRate_upsignal\", \"frequency_y\":\"frequency_upsignal\", \n",
    "    \"power_y\":\"power_upsignal\",\"signalType_y\":\"signalType_upsignal\",\"signalTypeDebug_y\":\"signalTypeDebug_upsignal\",\n",
    "    \"spacecraft_y\":\"spacecraft_upsignal\",\"spacecraftId_y\":\"spacecraftId_upsignal\",  \"name_y\":\"name_upsignal\"})"
   ]
  },
  {
   "cell_type": "code",
   "execution_count": 8,
   "metadata": {},
   "outputs": [
    {
     "data": {
      "text/plain": [
       "Index(['_text', 'azimuthAngle', 'created', 'downSignal', 'elevationAngle',\n",
       "       'location', 'isArray', 'isDDOR', 'isMSPA', 'DSS', 'station', 'target',\n",
       "       'timeUTC', 'timeZoneOffset', 'upSignal', 'updated', 'windSpeed',\n",
       "       'dataRate_downsignal', 'frequency_downsignal', 'power_downsignal',\n",
       "       'signalType_downsignal', 'signalTypeDebug_downsignal',\n",
       "       'spacecraft_downsignal', 'spacecraftId_downsignal', 'dataRate_upsignal',\n",
       "       'frequency_upsignal', 'power_upsignal', 'signalType_upsignal',\n",
       "       'signalTypeDebug_upsignal', 'spacecraft_upsignal',\n",
       "       'spacecraftId_upsignal', 'downlegRange', 'id', 'name_upsignal', 'rtlt',\n",
       "       'uplegRange'],\n",
       "      dtype='object')"
      ]
     },
     "execution_count": 8,
     "metadata": {},
     "output_type": "execute_result"
    }
   ],
   "source": [
    "data_new_names.columns"
   ]
  },
  {
   "cell_type": "code",
   "execution_count": 9,
   "metadata": {},
   "outputs": [],
   "source": [
    "df = data_new_names[['timeUTC','DSS', 'location','created','timeZoneOffset','azimuthAngle','elevationAngle', 'isArray', \n",
    "           'isDDOR', 'isMSPA', 'windSpeed', 'dataRate_downsignal', 'frequency_downsignal','power_downsignal',\n",
    "           'signalType_downsignal', 'spacecraft_downsignal', 'spacecraftId_downsignal', \n",
    "          'dataRate_upsignal', 'frequency_upsignal','power_upsignal', 'signalType_upsignal','spacecraft_upsignal', 'spacecraftId_upsignal',\n",
    "           'downlegRange', 'id','name_upsignal', 'rtlt', 'uplegRange','signalTypeDebug_downsignal', 'signalTypeDebug_upsignal']]"
   ]
  },
  {
   "cell_type": "code",
   "execution_count": 10,
   "metadata": {},
   "outputs": [
    {
     "data": {
      "text/html": [
       "<div>\n",
       "<style scoped>\n",
       "    .dataframe tbody tr th:only-of-type {\n",
       "        vertical-align: middle;\n",
       "    }\n",
       "\n",
       "    .dataframe tbody tr th {\n",
       "        vertical-align: top;\n",
       "    }\n",
       "\n",
       "    .dataframe thead th {\n",
       "        text-align: right;\n",
       "    }\n",
       "</style>\n",
       "<table border=\"1\" class=\"dataframe\">\n",
       "  <thead>\n",
       "    <tr style=\"text-align: right;\">\n",
       "      <th></th>\n",
       "      <th>timeUTC</th>\n",
       "      <th>DSS</th>\n",
       "      <th>location</th>\n",
       "      <th>created</th>\n",
       "      <th>timeZoneOffset</th>\n",
       "      <th>azimuthAngle</th>\n",
       "      <th>elevationAngle</th>\n",
       "      <th>isArray</th>\n",
       "      <th>isDDOR</th>\n",
       "      <th>isMSPA</th>\n",
       "      <th>...</th>\n",
       "      <th>signalType_upsignal</th>\n",
       "      <th>spacecraft_upsignal</th>\n",
       "      <th>spacecraftId_upsignal</th>\n",
       "      <th>downlegRange</th>\n",
       "      <th>id</th>\n",
       "      <th>name_upsignal</th>\n",
       "      <th>rtlt</th>\n",
       "      <th>uplegRange</th>\n",
       "      <th>signalTypeDebug_downsignal</th>\n",
       "      <th>signalTypeDebug_upsignal</th>\n",
       "    </tr>\n",
       "  </thead>\n",
       "  <tbody>\n",
       "    <tr>\n",
       "      <th>0</th>\n",
       "      <td>1547424005485</td>\n",
       "      <td>DSS14</td>\n",
       "      <td>Goldstone</td>\n",
       "      <td>2019-01-13T23:40:09.011Z</td>\n",
       "      <td>-28800000</td>\n",
       "      <td>180.0</td>\n",
       "      <td>88.5</td>\n",
       "      <td>False</td>\n",
       "      <td>False</td>\n",
       "      <td>False</td>\n",
       "      <td>...</td>\n",
       "      <td>none</td>\n",
       "      <td>STA</td>\n",
       "      <td>234.0</td>\n",
       "      <td>2.225289e+08</td>\n",
       "      <td>234.0</td>\n",
       "      <td>STA</td>\n",
       "      <td>1484.459294</td>\n",
       "      <td>2.224996e+08</td>\n",
       "      <td>IDLE OFF 0 TURBO</td>\n",
       "      <td>OFF 0</td>\n",
       "    </tr>\n",
       "  </tbody>\n",
       "</table>\n",
       "<p>1 rows × 30 columns</p>\n",
       "</div>"
      ],
      "text/plain": [
       "         timeUTC    DSS   location                   created  timeZoneOffset  \\\n",
       "0  1547424005485  DSS14  Goldstone  2019-01-13T23:40:09.011Z       -28800000   \n",
       "\n",
       "   azimuthAngle  elevationAngle  isArray  isDDOR  isMSPA  ...  \\\n",
       "0         180.0            88.5    False   False   False  ...   \n",
       "\n",
       "   signalType_upsignal  spacecraft_upsignal  spacecraftId_upsignal  \\\n",
       "0                 none                  STA                  234.0   \n",
       "\n",
       "   downlegRange     id name_upsignal         rtlt    uplegRange  \\\n",
       "0  2.225289e+08  234.0           STA  1484.459294  2.224996e+08   \n",
       "\n",
       "  signalTypeDebug_downsignal  signalTypeDebug_upsignal  \n",
       "0           IDLE OFF 0 TURBO                    OFF 0   \n",
       "\n",
       "[1 rows x 30 columns]"
      ]
     },
     "execution_count": 10,
     "metadata": {},
     "output_type": "execute_result"
    }
   ],
   "source": [
    "df.head(1)"
   ]
  },
  {
   "cell_type": "markdown",
   "metadata": {},
   "source": [
    "# DATA SUBSETTING"
   ]
  },
  {
   "cell_type": "code",
   "execution_count": 12,
   "metadata": {},
   "outputs": [],
   "source": [
    "# Goldstone complex subset, then broken out by DSS (Deep Space Station)\n",
    "df_Goldstone = df.loc[df['location'] == \"Goldstone\"]\n",
    "df_Goldstone_DSS14 = df.loc[df['DSS'] == \"DSS14\"]  #Each DSS (Deep Space Station) will be model individually.\n",
    "df_Goldstone_DSS24 = df.loc[df['DSS'] == \"DSS24\"]  #Each DSS (Deep Space Station) will be model individually.\n",
    "df_Goldstone_DSS25 = df.loc[df['DSS'] == \"DSS25\"]  #Each DSS (Deep Space Station) will be model individually.\n",
    "df_Goldstone_DSS26 = df.loc[df['DSS'] == \"DSS26\"]  #Each DSS (Deep Space Station) will be model individually."
   ]
  },
  {
   "cell_type": "code",
   "execution_count": 13,
   "metadata": {},
   "outputs": [],
   "source": [
    "# Madrid subset, then broken out by DSS (Deep Space Station)\n",
    "df_Madrid = df.loc[df['location'] == \"Madrid\"]\n",
    "#Each DSS (Deep Space Station) will be model individually.\n",
    "#Each DSS (Deep Space Station) will be model individually.\n",
    "#Each DSS (Deep Space Station) will be model individually.\n",
    "#Each DSS (Deep Space Station) will be model individually."
   ]
  },
  {
   "cell_type": "code",
   "execution_count": 14,
   "metadata": {},
   "outputs": [],
   "source": [
    "# Canberra subset, then broken out by DSS (Deep Space Station)\n",
    "df_Canberra = df.loc[df['location'] == \"Canberra\"]\n",
    "#Each DSS (Deep Space Station) will be model individually.\n",
    "#Each DSS (Deep Space Station) will be model individually.\n",
    "#Each DSS (Deep Space Station) will be model individually.\n",
    "#Each DSS (Deep Space Station) will be model individually."
   ]
  },
  {
   "cell_type": "code",
   "execution_count": 15,
   "metadata": {},
   "outputs": [
    {
     "name": "stdout",
     "output_type": "stream",
     "text": [
      "(85227, 30)\n",
      "(76736, 30)\n",
      "(87996, 30)\n"
     ]
    }
   ],
   "source": [
    "print(df_Goldstone.shape)\n",
    "print(df_Madrid.shape)\n",
    "print(df_Canberra.shape)"
   ]
  },
  {
   "cell_type": "markdown",
   "metadata": {},
   "source": [
    "# Data Processing "
   ]
  },
  {
   "cell_type": "markdown",
   "metadata": {},
   "source": [
    "Explore each columns for NA's for outlier values"
   ]
  },
  {
   "cell_type": "code",
   "execution_count": 16,
   "metadata": {},
   "outputs": [
    {
     "data": {
      "text/plain": [
       "True"
      ]
     },
     "execution_count": 16,
     "metadata": {},
     "output_type": "execute_result"
    }
   ],
   "source": [
    "df.isnull().values.any()"
   ]
  },
  {
   "cell_type": "code",
   "execution_count": 17,
   "metadata": {},
   "outputs": [
    {
     "data": {
      "text/plain": [
       "True"
      ]
     },
     "execution_count": 17,
     "metadata": {},
     "output_type": "execute_result"
    }
   ],
   "source": [
    "df.isna().values.any()"
   ]
  },
  {
   "cell_type": "code",
   "execution_count": 18,
   "metadata": {},
   "outputs": [
    {
     "data": {
      "text/plain": [
       "timeUTC                            0\n",
       "DSS                                0\n",
       "location                           0\n",
       "created                            0\n",
       "timeZoneOffset                     0\n",
       "azimuthAngle                   40827\n",
       "elevationAngle                 40827\n",
       "isArray                            0\n",
       "isDDOR                             0\n",
       "isMSPA                             0\n",
       "windSpeed                      40827\n",
       "dataRate_downsignal            86966\n",
       "frequency_downsignal           86968\n",
       "power_downsignal               86966\n",
       "signalType_downsignal          35663\n",
       "spacecraft_downsignal          35663\n",
       "spacecraftId_downsignal        35663\n",
       "dataRate_upsignal             168942\n",
       "frequency_upsignal             48215\n",
       "power_upsignal                 50718\n",
       "signalType_upsignal                0\n",
       "spacecraft_upsignal            35653\n",
       "spacecraftId_upsignal          35653\n",
       "downlegRange                   35653\n",
       "id                             35653\n",
       "name_upsignal                  35653\n",
       "rtlt                           35653\n",
       "uplegRange                     35653\n",
       "signalTypeDebug_downsignal     35663\n",
       "signalTypeDebug_upsignal           0\n",
       "dtype: int64"
      ]
     },
     "execution_count": 18,
     "metadata": {},
     "output_type": "execute_result"
    }
   ],
   "source": [
    " df.isnull().sum()"
   ]
  },
  {
   "cell_type": "code",
   "execution_count": 19,
   "metadata": {},
   "outputs": [
    {
     "data": {
      "text/plain": [
       "1043479"
      ]
     },
     "execution_count": 19,
     "metadata": {},
     "output_type": "execute_result"
    }
   ],
   "source": [
    " df.isnull().sum().sum()"
   ]
  },
  {
   "cell_type": "code",
   "execution_count": 20,
   "metadata": {},
   "outputs": [
    {
     "data": {
      "text/plain": [
       "1043479"
      ]
     },
     "execution_count": 20,
     "metadata": {},
     "output_type": "execute_result"
    }
   ],
   "source": [
    " df.isna().sum().sum()"
   ]
  },
  {
   "cell_type": "code",
   "execution_count": 21,
   "metadata": {},
   "outputs": [
    {
     "data": {
      "text/plain": [
       "(249959, 30)"
      ]
     },
     "execution_count": 21,
     "metadata": {},
     "output_type": "execute_result"
    }
   ],
   "source": [
    "df.shape"
   ]
  },
  {
   "cell_type": "code",
   "execution_count": 24,
   "metadata": {},
   "outputs": [
    {
     "name": "stdout",
     "output_type": "stream",
     "text": [
      "0.8608466455165313\n"
     ]
    }
   ],
   "source": [
    "# 86% of data is not missing, 14% is.  This could just mean no activity is present, and its not actually null/na.\n",
    "print(((30*249959)-1043479)/(30*249959))"
   ]
  },
  {
   "cell_type": "markdown",
   "metadata": {},
   "source": [
    "Do I have missing values? How are they expressed in the data? Should I withhold samples with missing values?\n",
    "Or should I replace them? If so, which values should they be replaced with?"
   ]
  },
  {
   "cell_type": "code",
   "execution_count": 27,
   "metadata": {},
   "outputs": [],
   "source": [
    "df_preprocess = df[['timeUTC','DSS', 'location','created','timeZoneOffset','azimuthAngle','elevationAngle', 'isArray', \n",
    "           'isDDOR', 'isMSPA', 'windSpeed', 'dataRate_downsignal', 'frequency_downsignal','power_downsignal',\n",
    "           'signalType_downsignal', 'spacecraftId_downsignal','dataRate_upsignal', 'frequency_upsignal',\n",
    "            'power_upsignal', 'signalType_upsignal', 'spacecraftId_upsignal','downlegRange', \n",
    "            'id', 'rtlt', 'uplegRange','signalTypeDebug_downsignal', 'signalTypeDebug_upsignal']]"
   ]
  },
  {
   "cell_type": "code",
   "execution_count": 28,
   "metadata": {
    "scrolled": true
   },
   "outputs": [
    {
     "data": {
      "text/html": [
       "<div>\n",
       "<style scoped>\n",
       "    .dataframe tbody tr th:only-of-type {\n",
       "        vertical-align: middle;\n",
       "    }\n",
       "\n",
       "    .dataframe tbody tr th {\n",
       "        vertical-align: top;\n",
       "    }\n",
       "\n",
       "    .dataframe thead th {\n",
       "        text-align: right;\n",
       "    }\n",
       "</style>\n",
       "<table border=\"1\" class=\"dataframe\">\n",
       "  <thead>\n",
       "    <tr style=\"text-align: right;\">\n",
       "      <th></th>\n",
       "      <th>timeUTC</th>\n",
       "      <th>DSS</th>\n",
       "      <th>location</th>\n",
       "      <th>created</th>\n",
       "      <th>timeZoneOffset</th>\n",
       "      <th>azimuthAngle</th>\n",
       "      <th>elevationAngle</th>\n",
       "      <th>isArray</th>\n",
       "      <th>isDDOR</th>\n",
       "      <th>isMSPA</th>\n",
       "      <th>...</th>\n",
       "      <th>frequency_upsignal</th>\n",
       "      <th>power_upsignal</th>\n",
       "      <th>signalType_upsignal</th>\n",
       "      <th>spacecraftId_upsignal</th>\n",
       "      <th>downlegRange</th>\n",
       "      <th>id</th>\n",
       "      <th>rtlt</th>\n",
       "      <th>uplegRange</th>\n",
       "      <th>signalTypeDebug_downsignal</th>\n",
       "      <th>signalTypeDebug_upsignal</th>\n",
       "    </tr>\n",
       "  </thead>\n",
       "  <tbody>\n",
       "    <tr>\n",
       "      <th>0</th>\n",
       "      <td>1547424005485</td>\n",
       "      <td>DSS14</td>\n",
       "      <td>Goldstone</td>\n",
       "      <td>2019-01-13T23:40:09.011Z</td>\n",
       "      <td>-28800000</td>\n",
       "      <td>180.0</td>\n",
       "      <td>88.5</td>\n",
       "      <td>False</td>\n",
       "      <td>False</td>\n",
       "      <td>False</td>\n",
       "      <td>...</td>\n",
       "      <td>7186</td>\n",
       "      <td>0.000013</td>\n",
       "      <td>none</td>\n",
       "      <td>234.0</td>\n",
       "      <td>2.225289e+08</td>\n",
       "      <td>234.0</td>\n",
       "      <td>1484.459294</td>\n",
       "      <td>2.224996e+08</td>\n",
       "      <td>IDLE OFF 0 TURBO</td>\n",
       "      <td>OFF 0</td>\n",
       "    </tr>\n",
       "  </tbody>\n",
       "</table>\n",
       "<p>1 rows × 27 columns</p>\n",
       "</div>"
      ],
      "text/plain": [
       "         timeUTC    DSS   location                   created  timeZoneOffset  \\\n",
       "0  1547424005485  DSS14  Goldstone  2019-01-13T23:40:09.011Z       -28800000   \n",
       "\n",
       "   azimuthAngle  elevationAngle  isArray  isDDOR  isMSPA  ...  \\\n",
       "0         180.0            88.5    False   False   False  ...   \n",
       "\n",
       "   frequency_upsignal  power_upsignal  signalType_upsignal  \\\n",
       "0                7186        0.000013                 none   \n",
       "\n",
       "   spacecraftId_upsignal  downlegRange     id         rtlt    uplegRange  \\\n",
       "0                  234.0  2.225289e+08  234.0  1484.459294  2.224996e+08   \n",
       "\n",
       "   signalTypeDebug_downsignal signalTypeDebug_upsignal  \n",
       "0            IDLE OFF 0 TURBO                   OFF 0   \n",
       "\n",
       "[1 rows x 27 columns]"
      ]
     },
     "execution_count": 28,
     "metadata": {},
     "output_type": "execute_result"
    }
   ],
   "source": [
    "df_preprocess.head(1)"
   ]
  },
  {
   "cell_type": "code",
   "execution_count": 29,
   "metadata": {},
   "outputs": [
    {
     "data": {
      "text/plain": [
       "array(['IDLE OFF 0 TURBO', 'IDLE OFF 0 MCD2', 'IN LOCK OFF 1 MCD2',\n",
       "       'IN LOCK IN LOCK 1 TURBO', 'IDLE OFF 1 TURBO', '  -1 ', nan,\n",
       "       'IDLE OFF 1 MCD2', 'OUT OF LOCK OUT OF LOCK 0 TURBO',\n",
       "       'OUT OF LOCK WAIT FOR LOCK 1 TURBO', 'OUT OF LOCK OFF 0 MCD2',\n",
       "       'OUT OF LOCK OUT OF LOCK 1 TURBO', 'OUT OF LOCK OFF 1 MCD2',\n",
       "       'IDLE OFF 0 MCD3', 'IDLE OFF 0 UNC', 'IDLE OFF 1 MCD3',\n",
       "       'OUT OF LOCK OFF 1 MCD3', 'OUT OF LOCK OFF 0 MCD3',\n",
       "       'IN LOCK OFF 1 MCD3', 'IN LOCK OFF 0 MCD3',\n",
       "       'IN LOCK IN LOCK 0 TURBO', 'IN LOCK OFF 0 MCD2', 'IDLE OFF 1 UNC',\n",
       "       'OUT OF LOCK OFF 1 UNC', 'IN LOCK OFF 1 UNC', 'IN LOCK OFF 0 UNC',\n",
       "       'OUT OF LOCK WAIT FOR LOCK 0 TURBO', 'OUT OF LOCK IN LOCK 1 TURBO'],\n",
       "      dtype=object)"
      ]
     },
     "execution_count": 29,
     "metadata": {},
     "output_type": "execute_result"
    }
   ],
   "source": [
    "df_preprocess.signalTypeDebug_downsignal.unique()"
   ]
  },
  {
   "cell_type": "code",
   "execution_count": 51,
   "metadata": {},
   "outputs": [
    {
     "name": "stdout",
     "output_type": "stream",
     "text": [
      "249959\n",
      "249959\n"
     ]
    }
   ],
   "source": [
    "#One Hot Encoder funtion in scipy will not run with NAN values.  Therefore, converting NAN's below.\n",
    "print(df_preprocess.signalTypeDebug_downsignal.isna().count())\n",
    "print(df_preprocess.signalTypeDebug_upsignal.isna().count())"
   ]
  },
  {
   "cell_type": "code",
   "execution_count": 40,
   "metadata": {},
   "outputs": [
    {
     "data": {
      "text/plain": [
       "array(['OFF 0 ', 'ON 1 ', '  ', 'OFF 0 IDLE', 'ON 1 TRK', ' 0 IDLE',\n",
       "       ' 0 TRK', 'none', 'ON 1 IDLE', '  TRK', '  IDLE', 'ON 0 ',\n",
       "       'OFF 0 TRK', 'OFF 1 ', 'ON 0 CAL', 'ON 1 CAL', 'ON 0 IDLE',\n",
       "       'OFF 1 IDLE', 'ON 0 TRK', ' 0 ', 'OFF 1 TRK'], dtype=object)"
      ]
     },
     "execution_count": 40,
     "metadata": {},
     "output_type": "execute_result"
    }
   ],
   "source": [
    "df_preprocess.signalTypeDebug_upsignal.unique()"
   ]
  },
  {
   "cell_type": "code",
   "execution_count": 36,
   "metadata": {},
   "outputs": [
    {
     "name": "stdout",
     "output_type": "stream",
     "text": [
      "         timeUTC    DSS   location                   created  timeZoneOffset  \\\n",
      "0  1547424005485  DSS14  Goldstone  2019-01-13T23:40:09.011Z       -28800000   \n",
      "\n",
      "  azimuthAngle elevationAngle  isArray  isDDOR  isMSPA  ...  \\\n",
      "0          180           88.5    False   False   False  ...   \n",
      "\n",
      "  frequency_upsignal power_upsignal signalType_upsignal spacecraftId_upsignal  \\\n",
      "0               7186        1.3e-05                none                   234   \n",
      "\n",
      "  downlegRange   id     rtlt uplegRange signalTypeDebug_downsignal  \\\n",
      "0  2.22529e+08  234  1484.46  2.225e+08           IDLE OFF 0 TURBO   \n",
      "\n",
      "  signalTypeDebug_upsignal  \n",
      "0                   OFF 0   \n",
      "\n",
      "[1 rows x 27 columns]\n"
     ]
    }
   ],
   "source": [
    "#Suppose you have a Pandas dataframe, df, and in one of your columns, Are you a cat?, you have a slew of \n",
    "#NaN values that you'd like to replace with the string No. Here's how to deal with that:\n",
    "#df['Are you a Cat?'].fillna('No', inplace=True)\n",
    "\n",
    "df_preprocess = df_preprocess.fillna(\"Missing_data\")\n",
    "\n",
    "print(df_preprocess.head(1))\n",
    "#df_preprocess['signalTypeDebug_downsignal'].fillna(\"Missing_signalTypeDebug_downsignal\", inplace=True)\n",
    "#df_preprocess['signalTypeDebug_upsignal'].fillna(\"Missing_signalTypeDebug_upsignal\", inplace=True)\n"
   ]
  },
  {
   "cell_type": "code",
   "execution_count": 37,
   "metadata": {},
   "outputs": [],
   "source": [
    "from sklearn.preprocessing import MinMaxScaler\n",
    "from sklearn import preprocessing\n",
    "#encode = LabelEncoder"
   ]
  },
  {
   "cell_type": "code",
   "execution_count": 29,
   "metadata": {},
   "outputs": [],
   "source": [
    "# separate array into input and output components\n",
    "#scaler = MinMaxScaler(feature_range=(0, 1))\n",
    "#df_Gold_preprocess = preprocessing.StandardScaler().fit_transform(df_Goldstone)"
   ]
  },
  {
   "cell_type": "code",
   "execution_count": null,
   "metadata": {},
   "outputs": [],
   "source": [
    "#encode.fit_transform"
   ]
  },
  {
   "cell_type": "markdown",
   "metadata": {},
   "source": [
    "# Categorical Features-One Hot Encoding"
   ]
  },
  {
   "cell_type": "markdown",
   "metadata": {},
   "source": [
    "Once you know what type of categorical data you’re working on, you can pick a suiting transformation tool.\n",
    "In sklearn that will be a OrdinalEncoder for ordinal data, and a OneHotEncoder for nominal data.\n",
    "Remember that we can’t replace these features by a number since this would imply the features have an order."
   ]
  },
  {
   "cell_type": "code",
   "execution_count": 38,
   "metadata": {},
   "outputs": [],
   "source": [
    "\n",
    "from sklearn.preprocessing import OneHotEncoder\n",
    "\n",
    "onehot = OneHotEncoder(dtype=np.int, sparse=True)\n",
    "nominals = pd.DataFrame(\n",
    "    onehot.fit_transform(df_preprocess[['location', 'DSS','signalTypeDebug_downsignal','signalTypeDebug_upsignal']])\\\n",
    "    .toarray(),\n",
    "    columns=['Goldstone', 'Madrid', 'Canberra', 'DSS63','DSS65', 'DSS54','DSS55','DSS14', 'DSS24','DSS25', 'DSS26',\n",
    "            'DSS43', 'DSS34','DSS35', 'DSS36','DSS60','IDLE OFF 0 TURBO', 'IDLE OFF 0 MCD2', 'IN LOCK OFF 1 MCD2',\n",
    "            'IN LOCK IN LOCK 1 TURBO', 'IDLE OFF 1 TURBO', '  -1', 'Missing_data', 'IDLE OFF 1 MCD2', \n",
    "            'OUT OF LOCK OUT OF LOCK 0 TURBO','OUT OF LOCK WAIT FOR LOCK 1 TURBO', 'OUT OF LOCK OFF 0 MCD2',\n",
    "            'OUT OF LOCK OUT OF LOCK 1 TURBO', 'OUT OF LOCK OFF 1 MCD2','IDLE OFF 0 MCD3', 'IDLE OFF 0 UNC', \n",
    "            'IDLE OFF 1 MCD3','OUT OF LOCK OFF 1 MCD3', 'OUT OF LOCK OFF 0 MCD3','IN LOCK OFF 1 MCD3', \n",
    "            'IN LOCK OFF 0 MCD3','IN LOCK IN LOCK 0 TURBO', 'IN LOCK OFF 0 MCD2', 'IDLE OFF 1 UNC',\n",
    "            'OUT OF LOCK OFF 1 UNC', 'IN LOCK OFF 1 UNC', 'IN LOCK OFF 0 UNC','OUT OF LOCK WAIT FOR LOCK 0 TURBO', \n",
    "             'OUT OF LOCK IN LOCK 1 TURBO','OFF 0 ', 'ON 1 ', 'Missing_data', 'OFF 0 IDLE', 'ON 1 TRK', ' 0 IDLE',\n",
    "             ' 0 TRK', 'none', 'ON 1 IDLE', '  TRK', '  IDLE', 'ON 0 ', 'OFF 0 TRK', 'OFF 1 ', 'ON 0 CAL', \n",
    "             'ON 1 CAL', 'ON 0 IDLE','OFF 1 IDLE', 'ON 0 TRK', ' 0 ', 'OFF 1 TRK'])\n",
    "\n",
    "\n",
    "#It is important to have a word on how to handle missing values with the OneHotEncoder.\n",
    "#A missing value can easily be handled as an extra feature. Note that to do this, you \n",
    "#need to replace the missing value by an arbitrary value first (e.g. ‘missing’)\n",
    "#If you, on the other hand, want to ignore the missing value and create an instance with all\n",
    "#zeros (False), you can just set the handle_unkown parameter of the OneHotEncoder to ignore.\n"
   ]
  },
  {
   "cell_type": "code",
   "execution_count": 39,
   "metadata": {},
   "outputs": [
    {
     "name": "stdout",
     "output_type": "stream",
     "text": [
      "   Goldstone  Madrid  Canberra  DSS63  DSS65  DSS54  DSS55  DSS14  DSS24  \\\n",
      "0          0       1         0      1      0      0      0      0      0   \n",
      "\n",
      "   DSS25  ...  ON 0   OFF 0 TRK  OFF 1   ON 0 CAL  ON 1 CAL  ON 0 IDLE  \\\n",
      "0      0  ...      0          0       0         0         0          0   \n",
      "\n",
      "   OFF 1 IDLE  ON 0 TRK   0   OFF 1 TRK  \n",
      "0           0         0    0          0  \n",
      "\n",
      "[1 rows x 65 columns]\n"
     ]
    }
   ],
   "source": [
    "print(nominals.head(1))"
   ]
  },
  {
   "cell_type": "code",
   "execution_count": 162,
   "metadata": {},
   "outputs": [
    {
     "name": "stdout",
     "output_type": "stream",
     "text": [
      "(249959, 65)\n"
     ]
    }
   ],
   "source": [
    "print(nominals.shape)"
   ]
  },
  {
   "cell_type": "code",
   "execution_count": 76,
   "metadata": {},
   "outputs": [],
   "source": [
    "#Remove the target variable from the training set\n",
    "#The target variable is 'signalTypeDebug_downsignal' which we remove and \n",
    "#assign as an array to its own variable. We will use it later when we do machine learning.\n",
    "\n",
    "#y = df.pop('signalTypeDebug_downsignal').values"
   ]
  },
  {
   "cell_type": "markdown",
   "metadata": {},
   "source": [
    "If we want to use the preprocessing in the ‘supervised learning’, then it is better to ‘split’ the dataset \n",
    "as ‘test and train’ first; and then apply the preprocessing to the ‘training data’ only.\n",
    "This is the good practice as in real-life problems we will not have the future data for preprocessing.\n",
    "\n",
    "Normalization\n",
    "Normalization is the process of scaling individual samples to have unit norm. In basic terms you need to normalize \n",
    "data when the algorithm predicts based on the weighted relationships formed between data points. Scaling inputs to\n",
    "unit norms is a common operation for text classification or clustering.\n",
    "\n",
    "One of the key differences between scaling (e.g. standardizing) and normalizing, is that normalizing is a \n",
    "row-wise operation, while scaling is a column-wise operation.\n",
    "\n",
    "Below, the formula’s for the available norms are discussed and implemented in Python code — where the result\n",
    "is a list of denominators for each sample in data set X .\n",
    "\n",
    "The max norm uses the absolute maximum and does for samples what the MaxAbsScaler does for features.\n",
    "x_normalized = x / max(x)"
   ]
  },
  {
   "cell_type": "code",
   "execution_count": 41,
   "metadata": {
    "scrolled": true
   },
   "outputs": [],
   "source": [
    "#norm_max = list(max(list(abs(i) for i in df_preprocess.iloc[r])) for r in range(len(df_preprocess)))\n",
    "\n",
    "#‘L1’ it is insensitive to outliers\n",
    "#The L1 norm uses the sum of all the values as and thus gives equal penalty to all parameters, enforcing sparsity.\n",
    "#x_normalized = x / sum(X)\n",
    "#norm_l1 = list(sum(list(abs(i) for i in df_preprocess.iloc[r])) for r in range(len(df_preprocess)))\n",
    "\n",
    "#preprocessing.normalize(nominals, norm='l2')  # outliers are taken into consideration\n",
    "#preprocessing.normalize(df_preprocess, norm='l1')\n",
    "\n",
    "#‘L2’ takes outliers into consideration during training :).  Use L2 when outliers are important!!!  \n",
    "#The l2 norm uses the square root of the sum of all the squared values. This creates smoothness\n",
    "#and rotational invariance. Some models, like PCA, assume rotational invariance, and so l2 will perform better.\n",
    "#x_normalized = x / sqrt(sum((i**2) for i in X))\n",
    "#norm_l2 = list(math.sqrt(sum(list((i**2) for i in df_preprocess.iloc[r]))) for r in range(len(df_preprocess)))"
   ]
  },
  {
   "cell_type": "code",
   "execution_count": 40,
   "metadata": {},
   "outputs": [
    {
     "data": {
      "text/plain": [
       "array([[0. , 0.5, 0. , ..., 0. , 0. , 0. ],\n",
       "       [0. , 0.5, 0. , ..., 0. , 0. , 0. ],\n",
       "       [0. , 0.5, 0. , ..., 0. , 0. , 0. ],\n",
       "       ...,\n",
       "       [0.5, 0. , 0. , ..., 0. , 0. , 0.5],\n",
       "       [0.5, 0. , 0. , ..., 0. , 0. , 0.5],\n",
       "       [0.5, 0. , 0. , ..., 0. , 0. , 0. ]])"
      ]
     },
     "execution_count": 40,
     "metadata": {},
     "output_type": "execute_result"
    }
   ],
   "source": [
    "preprocessing.normalize(nominals, norm='l2')  # outliers are taken into consideration"
   ]
  },
  {
   "cell_type": "markdown",
   "metadata": {},
   "source": [
    "# Normalized Subsets"
   ]
  },
  {
   "cell_type": "code",
   "execution_count": 164,
   "metadata": {},
   "outputs": [],
   "source": [
    "#Normalized subsets\n",
    "# Goldstone subset  DO I have to subset??\n",
    "df_Goldstone_nominal = nominals.loc[nominals['Goldstone']==1]\n",
    "df_DSS14_nominal = nominals.loc[nominals['DSS14']==1]\n",
    "df_DSS24_nominal = nominals.loc[nominals['DSS24']==1]\n",
    "df_DSS25_nominal = nominals.loc[nominals['DSS25']==1]\n",
    "df_DSS26_nominal = nominals.loc[nominals['DSS26']==1]\n",
    "\n",
    "\n",
    "####################################################################\n",
    "df_Madrid_nominal = nominals.loc[nominals['Madrid']==1]\n",
    "\n",
    "#####################################################################\n",
    "df_Canberra_nominal = nominals.loc[nominals['Canberra']==1]"
   ]
  },
  {
   "cell_type": "code",
   "execution_count": 165,
   "metadata": {},
   "outputs": [
    {
     "data": {
      "text/html": [
       "<div>\n",
       "<style scoped>\n",
       "    .dataframe tbody tr th:only-of-type {\n",
       "        vertical-align: middle;\n",
       "    }\n",
       "\n",
       "    .dataframe tbody tr th {\n",
       "        vertical-align: top;\n",
       "    }\n",
       "\n",
       "    .dataframe thead th {\n",
       "        text-align: right;\n",
       "    }\n",
       "</style>\n",
       "<table border=\"1\" class=\"dataframe\">\n",
       "  <thead>\n",
       "    <tr style=\"text-align: right;\">\n",
       "      <th></th>\n",
       "      <th>Goldstone</th>\n",
       "      <th>Madrid</th>\n",
       "      <th>Canberra</th>\n",
       "      <th>DSS63</th>\n",
       "      <th>DSS65</th>\n",
       "      <th>DSS54</th>\n",
       "      <th>DSS55</th>\n",
       "      <th>DSS14</th>\n",
       "      <th>DSS24</th>\n",
       "      <th>DSS25</th>\n",
       "      <th>...</th>\n",
       "      <th>ON 0</th>\n",
       "      <th>OFF 0 TRK</th>\n",
       "      <th>OFF 1</th>\n",
       "      <th>ON 0 CAL</th>\n",
       "      <th>ON 1 CAL</th>\n",
       "      <th>ON 0 IDLE</th>\n",
       "      <th>OFF 1 IDLE</th>\n",
       "      <th>ON 0 TRK</th>\n",
       "      <th>0</th>\n",
       "      <th>OFF 1 TRK</th>\n",
       "    </tr>\n",
       "  </thead>\n",
       "  <tbody>\n",
       "    <tr>\n",
       "      <th>5</th>\n",
       "      <td>1</td>\n",
       "      <td>0</td>\n",
       "      <td>0</td>\n",
       "      <td>0</td>\n",
       "      <td>0</td>\n",
       "      <td>0</td>\n",
       "      <td>0</td>\n",
       "      <td>1</td>\n",
       "      <td>0</td>\n",
       "      <td>0</td>\n",
       "      <td>...</td>\n",
       "      <td>0</td>\n",
       "      <td>0</td>\n",
       "      <td>0</td>\n",
       "      <td>0</td>\n",
       "      <td>0</td>\n",
       "      <td>1</td>\n",
       "      <td>0</td>\n",
       "      <td>0</td>\n",
       "      <td>0</td>\n",
       "      <td>0</td>\n",
       "    </tr>\n",
       "    <tr>\n",
       "      <th>13</th>\n",
       "      <td>1</td>\n",
       "      <td>0</td>\n",
       "      <td>0</td>\n",
       "      <td>0</td>\n",
       "      <td>0</td>\n",
       "      <td>0</td>\n",
       "      <td>0</td>\n",
       "      <td>1</td>\n",
       "      <td>0</td>\n",
       "      <td>0</td>\n",
       "      <td>...</td>\n",
       "      <td>0</td>\n",
       "      <td>0</td>\n",
       "      <td>0</td>\n",
       "      <td>0</td>\n",
       "      <td>0</td>\n",
       "      <td>1</td>\n",
       "      <td>0</td>\n",
       "      <td>0</td>\n",
       "      <td>0</td>\n",
       "      <td>0</td>\n",
       "    </tr>\n",
       "    <tr>\n",
       "      <th>21</th>\n",
       "      <td>1</td>\n",
       "      <td>0</td>\n",
       "      <td>0</td>\n",
       "      <td>0</td>\n",
       "      <td>0</td>\n",
       "      <td>0</td>\n",
       "      <td>0</td>\n",
       "      <td>1</td>\n",
       "      <td>0</td>\n",
       "      <td>0</td>\n",
       "      <td>...</td>\n",
       "      <td>0</td>\n",
       "      <td>0</td>\n",
       "      <td>0</td>\n",
       "      <td>0</td>\n",
       "      <td>0</td>\n",
       "      <td>1</td>\n",
       "      <td>0</td>\n",
       "      <td>0</td>\n",
       "      <td>0</td>\n",
       "      <td>0</td>\n",
       "    </tr>\n",
       "    <tr>\n",
       "      <th>29</th>\n",
       "      <td>1</td>\n",
       "      <td>0</td>\n",
       "      <td>0</td>\n",
       "      <td>0</td>\n",
       "      <td>0</td>\n",
       "      <td>0</td>\n",
       "      <td>0</td>\n",
       "      <td>1</td>\n",
       "      <td>0</td>\n",
       "      <td>0</td>\n",
       "      <td>...</td>\n",
       "      <td>0</td>\n",
       "      <td>0</td>\n",
       "      <td>0</td>\n",
       "      <td>0</td>\n",
       "      <td>0</td>\n",
       "      <td>1</td>\n",
       "      <td>0</td>\n",
       "      <td>0</td>\n",
       "      <td>0</td>\n",
       "      <td>0</td>\n",
       "    </tr>\n",
       "    <tr>\n",
       "      <th>37</th>\n",
       "      <td>1</td>\n",
       "      <td>0</td>\n",
       "      <td>0</td>\n",
       "      <td>0</td>\n",
       "      <td>0</td>\n",
       "      <td>0</td>\n",
       "      <td>0</td>\n",
       "      <td>1</td>\n",
       "      <td>0</td>\n",
       "      <td>0</td>\n",
       "      <td>...</td>\n",
       "      <td>0</td>\n",
       "      <td>0</td>\n",
       "      <td>0</td>\n",
       "      <td>0</td>\n",
       "      <td>0</td>\n",
       "      <td>1</td>\n",
       "      <td>0</td>\n",
       "      <td>0</td>\n",
       "      <td>0</td>\n",
       "      <td>0</td>\n",
       "    </tr>\n",
       "  </tbody>\n",
       "</table>\n",
       "<p>5 rows × 65 columns</p>\n",
       "</div>"
      ],
      "text/plain": [
       "    Goldstone  Madrid  Canberra  DSS63  DSS65  DSS54  DSS55  DSS14  DSS24  \\\n",
       "5           1       0         0      0      0      0      0      1      0   \n",
       "13          1       0         0      0      0      0      0      1      0   \n",
       "21          1       0         0      0      0      0      0      1      0   \n",
       "29          1       0         0      0      0      0      0      1      0   \n",
       "37          1       0         0      0      0      0      0      1      0   \n",
       "\n",
       "    DSS25  ...  ON 0   OFF 0 TRK  OFF 1   ON 0 CAL  ON 1 CAL  ON 0 IDLE  \\\n",
       "5       0  ...      0          0       0         0         0          1   \n",
       "13      0  ...      0          0       0         0         0          1   \n",
       "21      0  ...      0          0       0         0         0          1   \n",
       "29      0  ...      0          0       0         0         0          1   \n",
       "37      0  ...      0          0       0         0         0          1   \n",
       "\n",
       "    OFF 1 IDLE  ON 0 TRK   0   OFF 1 TRK  \n",
       "5            0         0    0          0  \n",
       "13           0         0    0          0  \n",
       "21           0         0    0          0  \n",
       "29           0         0    0          0  \n",
       "37           0         0    0          0  \n",
       "\n",
       "[5 rows x 65 columns]"
      ]
     },
     "execution_count": 165,
     "metadata": {},
     "output_type": "execute_result"
    }
   ],
   "source": [
    "df_DSS14_nominal.head()"
   ]
  },
  {
   "cell_type": "markdown",
   "metadata": {},
   "source": [
    "# Train and Test Multi-Classification Split"
   ]
  },
  {
   "cell_type": "code",
   "execution_count": 166,
   "metadata": {},
   "outputs": [],
   "source": [
    "df_Goldstone_nominal_train = df_Goldstone_nominal.loc[:61597,:]\n",
    "df_Goldstone_nominal_test = df_Goldstone_nominal.loc[61597:,:]"
   ]
  },
  {
   "cell_type": "markdown",
   "metadata": {},
   "source": [
    "While the ground station is searching for a signal, it may ‘lock on’ to a signal from a different spacecraft\n",
    "and wrongly identify it as the spacecraft being searched for. This is particularly common with spacecraft at\n",
    "Mars as multiple spacecraft are within the field of view of a single DSN antenna. For example, attempts to\n",
    "recover the Opportunity Rover (MERB) may appear successful when the antenna has actually locked on to a \n",
    "signal from one of the orbiters around Mars such as MAVEN or MRO. When this occurs, \n",
    "engineers ask the antenna to ‘drop lock’ and the hunt for the spacecraft continues."
   ]
  },
  {
   "cell_type": "code",
   "execution_count": 167,
   "metadata": {},
   "outputs": [
    {
     "name": "stdout",
     "output_type": "stream",
     "text": [
      "(249959, 65)\n"
     ]
    }
   ],
   "source": [
    "print(nominals.shape)"
   ]
  },
  {
   "cell_type": "code",
   "execution_count": null,
   "metadata": {},
   "outputs": [],
   "source": []
  },
  {
   "cell_type": "code",
   "execution_count": null,
   "metadata": {},
   "outputs": [],
   "source": []
  },
  {
   "cell_type": "code",
   "execution_count": 168,
   "metadata": {},
   "outputs": [],
   "source": [
    "from sklearn import linear_model\n",
    "from scipy.special import expit\n",
    "from sklearn.model_selection import train_test_split\n",
    "#nominals_train = [:-65]\n",
    "#nominals_train = [-65:]\n",
    "\n",
    "log = linear_model.LogisticRegression(solver='lbfgs', C=1e5,\n",
    "    multi_class='multinomial')\n",
    "#log.fit(iris_X_train, iris_y_train)  \n",
    "#LogisticRegression(C=100000.0, class_weight=None, dual=False,\n",
    "#fit_intercept=True, intercept_scaling=1, l1_ratio=None, max_iter=100,\n",
    "#multi_class='multinomial', n_jobs=None, penalty='l2', random_state=None,\n",
    "#solver='lbfgs', tol=0.0001, verbose=0, warm_start=False)"
   ]
  },
  {
   "cell_type": "code",
   "execution_count": null,
   "metadata": {},
   "outputs": [],
   "source": [
    "#Multiclass classification\n",
    "#If you have several classes to predict, an option often used is to fit one-versus-all classifiers and then\n",
    "#use a voting heuristic for the final decision."
   ]
  },
  {
   "cell_type": "markdown",
   "metadata": {},
   "source": [
    "# Multi-Classification Model Development, Test, and Selection"
   ]
  },
  {
   "cell_type": "code",
   "execution_count": 95,
   "metadata": {},
   "outputs": [],
   "source": [
    "#Model Selection\n",
    "#We are now ready to experiment with different machine learning models, evaluate their accuracy and \n",
    "#find the source of any potential issues. We will benchmark the following four models:\n",
    "#Logistic Regression\n",
    "#(Multinomial) Naive Bayes\n",
    "#Linear Support Vector Machine\n",
    "#Random Forest\n",
    "\n",
    "from sklearn.linear_model import LogisticRegression\n",
    "from sklearn.ensemble import RandomForestClassifier\n",
    "from sklearn.svm import LinearSVC\n",
    "from sklearn.model_selection import cross_val_score\n",
    "from sklearn.feature_extraction.text import CountVectorizer\n",
    "from sklearn.feature_extraction.text import TfidfTransformer\n",
    "from sklearn.naive_bayes import MultinomialNB"
   ]
  },
  {
   "cell_type": "code",
   "execution_count": null,
   "metadata": {
    "scrolled": true
   },
   "outputs": [],
   "source": []
  },
  {
   "cell_type": "code",
   "execution_count": 156,
   "metadata": {},
   "outputs": [],
   "source": [
    "#models = [\n",
    "#    RandomForestClassifier(n_estimators=200, max_depth=3, random_state=0),\n",
    "#    LinearSVC(),\n",
    "#    MultinomialNB(),\n",
    "#    LogisticRegression(random_state=0),\n",
    "#]\n",
    "#CV = 5\n",
    "#cv_df = pd.DataFrame(index=range(CV * len(models)))\n",
    "#entries = []\n",
    "#for model in models:\n",
    "#  model_name = model.__class__.__name__\n",
    "#  accuracies = cross_val_score(model, features, labels, scoring='accuracy', cv=CV)\n",
    "#  for fold_idx, accuracy in enumerate(accuracies):\n",
    "#    entries.append((model_name, fold_idx, accuracy))\n",
    "#cv_df = pd.DataFrame(entries, columns=['model_name', 'fold_idx', 'accuracy'])\n",
    "#import seaborn as sns\n",
    "#sns.boxplot(x='model_name', y='accuracy', data=cv_df)\n",
    "#sns.stripplot(x='model_name', y='accuracy', data=cv_df, \n",
    "              #size=8, jitter=True, edgecolor=\"gray\", linewidth=2)\n",
    "#plt.show()"
   ]
  },
  {
   "cell_type": "markdown",
   "metadata": {},
   "source": [
    "# Supervised ML Classification Labels: Maximum Convolutional Decoder (MCD)"
   ]
  },
  {
   "cell_type": "markdown",
   "metadata": {},
   "source": [
    "DSN 208\n",
    "Telemetry Data Decoding\n",
    "Purpose\n",
    "810-005 208, Rev. B\n",
    "This module describes the capabilities and performance of the telemetry decoding and frame synchronization equipment used by the Deep Space Network (DSN) in order to assist the telecommunications engineer in designing compatible spacecraft equipment.\n",
    "\n",
    "The DSN supports two convolutional codes, the Consultative Committee for Space Data Systems (CCSDS) \n",
    "standard Reed-Solomon code, and the CCSDS Turbo codes. Convolutional codes are used because they achieve \n",
    "significant coding gain with simple, highly reliable encoders and their decoders are of reasonable complexity. They also provide low latency and are useful when conditions may prevent a block of symbols from being received. The Reed- Solomon code provides excellent performance with minimum bandwidth expansion in a high signal-to-noise environment. It is most often used as an outer code in combination with a convolutional inner code but may be used by itself under appropriate signal conditions. Turbo codes provide near-Shannon-limit error-correction performance with reasonable encoding and decoding complexity. The DSN presently includes an additional convolutional decoder that is used for the Cassini spacecraft support but it will be removed from service at the end of that mission.\n"
   ]
  },
  {
   "cell_type": "markdown",
   "metadata": {},
   "source": [
    "2.5.4.1 Reed-Solomon Encoder\n",
    "The most common architecture for an RS encoder is named the Berlekamp Architecture, after its inventor. \n",
    "This architecture, in combination with appropriate selection of the RS code generator polynomial, enables \n",
    "parity symbols to be calculated using bit-serial multipliers constructed with a matrix of exclusive OR gates. \n",
    "Figure 7 shows the design of a Berlekamp encoder for producing the DSN/CCSDS standard RS code that includes support\n",
    "for interleaving and virtual fill as discussed below.\n",
    "2.5.4.2 Concatenated Convolutional and Reed–Solomon Code Errors in convolutionally coded channels tend to occur\n",
    "in bursts that result when noise causes the decoder to momentarily follow the wrong path through the decoding \n",
    "trellis. The combination of an outer Reed–Solomon (RS) code with an inner convolutional code provides good \n",
    "burst-error correction with minimal bandwidth expansion.\n",
    "2.5.4.3 Interleaving\n",
    "The burst errors associated with Viterbi decoding can be as long as several constraint lengths and equivalent to \n",
    "several consecutive RS symbols. Thus, several closely spaced error bursts can exceed an RS decoder's error \n",
    "correction capability."
   ]
  },
  {
   "cell_type": "markdown",
   "metadata": {},
   "source": [
    "Turbo Codes\n",
    "Turbo codes provide error correction performance within approximately 0.8 dB of the theoretical limit at a BER of \n",
    "10–6. This performance is achieved using encoders and decoders of reasonable complexity but at the expense of \n",
    "increased latency. A turbo code is a systematic block code where two sets of parity symbols from independent \n",
    "recursive convolutional encoders are provided. The encoders employ trellis termination so that the codeblock both \n",
    "begins and ends in a known state.\n",
    "The use of recursive convolutional encoders is one feature of turbo codes. The second is the presence of an \n",
    "interleaver at the input of one of the convolutional encoders that changes the order of the information bits \n",
    "before they are encoded. It is the presence of the interleaver that establishes the minimum latency as equaling \n",
    "the block size as an entire block of data must be assembled before the parity generation process can begin. \n",
    "Although the information bits appear, unchanged, in the encoded output, they do not appear contiguously as is the\n",
    "case with Reed Solomon codes."
   ]
  },
  {
   "cell_type": "markdown",
   "metadata": {},
   "source": [
    "Data Formatting\n",
    "The result of the previously described processing is a series of fixed-length frames of telemetry data. The content of\n",
    "these frames may represent a single stream of telemetry data or a portion of several streams of telemetry data \n",
    "referred to as virtual channels, Virtual channels allocate the physical channel on a frame by frame basis identified\n",
    "by a virtual channel identifier. The DSN separates the frames based on the virtual channel identifier and creates \n",
    "independent streams of telemetry data. The use of virtual channels enables portions of the data stream to be delivered\n",
    "to different locations or with different latencies. Two types of telemetry frames are supported. Version I Frames, \n",
    "originally specified in CCSDS Recommendation 102.0-B, have the capability to support up to eight virtual channels\n",
    "numbered from 0 to 7. Version II Frames, originally specified in CCSDS Recommendation 701.0-B, have the capability \n",
    "to support up to sixty-four virtual channels. The DSN can combine from 1 to 16 of these channels into virtual data \n",
    "streams and the same virtual channel may appear in multiple virtual data streams. The number of virtual data streams\n",
    "that can be created for any one project is limited to 16."
   ]
  },
  {
   "cell_type": "markdown",
   "metadata": {},
   "source": [
    "3.4.3 Telemetry Processing\n",
    "Two BVRs are assigned to a project’s tracking pass. Each BVR has phase- locked loops for acquiring and tracking the \n",
    "carrier, telemetry subcarrier, and telemetry symbol stream. Voyager generates a 22.5-kHz subcarrier for use with bit\n",
    "rates less than or equal to 7.2 kbps and a 360-kHz subcarrier for use with bit rates greater than 7.2 kbps. In the\n",
    "residual carrier mode, the X-band carrier.\n",
    "\n",
    "Voyager Telecommunication 61\n",
    "modulation index settings vary from 51 deg for the lowest data rate (10 bps) to 80 deg for the highest (115.2 kbps).17\n",
    "The BVR delivers telemetry symbols to the maximum likelihood convolutional decoder (MCD). Voyager can use either the \n",
    "Block 2 or Block 3 MCD (MCD2 or MCD3)18 to process the (7,1/2) convolutional code. The MCD outputs decoded telemetry \n",
    "bits to the frame synchronizer subsystem (FSS).\n",
    "An MCD/FSS pair makes up a telemetry channel assembly (TCA). The telemetry group controller governs the operation of \n",
    "TCA1 (with MCD3) and TCA2 (with MCD2). After the MCD achieves lock, the FSS requires recognition of a minimum of two \n",
    "successive frame-sync words to output telemetry to the project. Validation requires recognition of a third sync word.\n",
    "The number of allowable miscompares (between received and expected bit values) in each frame-sync word recognized by \n",
    "the synchronizer can be set in the software.\n",
    "3.5 Sample Telecom System Performance\n",
    "The Voyager spacecraft receives an S-band uplink from the Earth and transmits S-and X-band downlinks to the Earth,\n",
    "compatible with DSN station configurations and performance defined in the DSN Network Operations Plan for VIM [9] \n",
    "and the DSN Telecommunications Link Design Handbook [7]."
   ]
  },
  {
   "cell_type": "code",
   "execution_count": null,
   "metadata": {},
   "outputs": [],
   "source": []
  }
 ],
 "metadata": {
  "kernelspec": {
   "display_name": "Python 3",
   "language": "python",
   "name": "python3"
  },
  "language_info": {
   "codemirror_mode": {
    "name": "ipython",
    "version": 3
   },
   "file_extension": ".py",
   "mimetype": "text/x-python",
   "name": "python",
   "nbconvert_exporter": "python",
   "pygments_lexer": "ipython3",
   "version": "3.7.3"
  }
 },
 "nbformat": 4,
 "nbformat_minor": 2
}
